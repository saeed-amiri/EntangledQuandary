{
 "cells": [
  {
   "cell_type": "markdown",
   "metadata": {},
   "source": [
    "# A Newbie Guide to Logic Circuits with Elementary Examples\n",
    "Describing how the digital circuits are built from logic gates and how thees basic digital circuits can be combined to create more complex circuits.\n",
    "\n",
    "## Half-Adder Circuits: [see [1](https://www.geeksforgeeks.org/half-adder-in-digital-logic/),[2](https://en.wikipedia.org/wiki/Adder_(electronics))]\n",
    "* An `adder` is a digital circuit that preform addition of numbers. *The half adder adds two single binary digits A and B. It has two outputs, sum (**S**) and carry (**C**). The carry signal represents an overflow into the next digit of a multi-digit addition. The value of the sum is **2 C + S**.*\n",
    "\n",
    "* Overflow: It happens when an arithmetic operation tries to make a value that is outside of the given range of the digits.\n",
    "\n",
    "* **Sum (S):** Achieved using an XOR gate (outputs 1 when the inputs are different).\n",
    "\n",
    "* **Carry (C):** Achieved using an AND gate (outputs 1 only when both inputs are 1).\n",
    "\n",
    "**Truth Table for Half Adder:**\n",
    "\n",
    "| A | B | Sum (XOR) | Carry (AND) |\n",
    "|:-:|:-:|:---------:|:-----------:|\n",
    "| 0 | 0 |     0     |      0      |\n",
    "| 0 | 1 |     1     |      0      |\n",
    "| 1 | 0 |     1     |      0      |\n",
    "| 1 | 1 |     0     |      1      |"
   ]
  },
  {
   "cell_type": "code",
   "execution_count": null,
   "metadata": {},
   "outputs": [
    {
     "name": "stdout",
     "output_type": "stream",
     "text": [
      "   A  B  Sum (XOR)  Carry (AND)\n",
      "0  0  0          0            0\n",
      "1  0  1          1            0\n",
      "2  1  0          1            0\n",
      "3  1  1          0            1\n"
     ]
    }
   ],
   "source": [
    "import pandas as pd\n",
    "\n",
    "def half_adder(data: list[tuple[int, int]]\n",
    "               ) -> pd.DataFrame:\n",
    "    \"\"\"test for half adder\"\"\"\n",
    "    truth_table: list[str] = []\n",
    "    for gates in data:\n",
    "        a_in, b_in = gates\n",
    "        sum = a_in ^ b_in  # XOR operation\n",
    "        carry = a_in & b_in  # AND operation\n",
    "        truth_table.append(\n",
    "            {'A': a_in, 'B': b_in, 'Sum (XOR)': sum, 'Carry (AND)': carry})\n",
    "    return pd.DataFrame(truth_table)\n",
    "\n",
    "data = [(0, 0), (0, 1), (1, 0), (1, 1)]\n",
    "df: pd.DataFrame = half_adder(data)\n",
    "print(df)"
   ]
  },
  {
   "cell_type": "markdown",
   "metadata": {},
   "source": [
    "---\n",
    "\n",
    "## Full Adder:\n",
    "A full adder adds three binary digits:\n",
    "* A: first input\n",
    "* B: second input\n",
    "* C_in: carry-in a previous addition\n",
    "\n",
    "It produces two outputs:\n",
    "* Sum (S): the least significant bit of the addition.\n",
    "* Carry (C_out): the bit that carries over to the next significant digit.\n",
    "\n",
    "### Logic Behind the Full Adder:\n",
    "A full adder can be constructed using two half adder and an OR gate:\n",
    "1. First Half Adder:\n",
    "    - Inputs: A and B.\n",
    "    - Outputs:\n",
    "        * Partial Sum $S_1 = A \\oplus B$ (XOR of A and B),\n",
    "        * Partial Carry $C_1 = A \\cdot B$ (AND of A and B).\n",
    "2. Second Half Adder:\n",
    "    - Inputs: The partial $S_1$ and the carry-in $C_{in}$.\n",
    "    - Outputs:\n",
    "        * Final Sum $S = S_1 \\oplus C_{in}$.\n",
    "        * Final Carry $C_2 = S_1 \\cdot S_2$.\n",
    "3. Carry-Out Calculation:\n",
    "    * The final carry-out $C_{out}$ is obtained by OR`ing the two partial carries:\n",
    "            $$C_{out} = C_1+ C_2$$\n"
   ]
  },
  {
   "cell_type": "markdown",
   "metadata": {},
   "source": [
    "---\n",
    "\n",
    "### Circuit Diagram:\n",
    "```sql\n",
    "      A --------+\n",
    "                |\n",
    "                |     +-------------+\n",
    "                +---->| Half Adder  |--- S1 (Partial Sum)\n",
    "                |     | (A, B)      |--- C1 (Partial Carry)\n",
    "      B --------+     +-------------+\n",
    "                \n",
    "                             S1 ------+\n",
    "                                      |     +-------------+\n",
    "                         C_in -------+---->| Half Adder  |--- S (Final Sum)\n",
    "                                      |     | (S1, C_in)  |--- C2 (Partial Carry)\n",
    "                                      +-----+-------------+\n",
    "                                      \n",
    "      (Final Carry-Out)\n",
    "      C_out = C1 OR C2\n",
    "```"
   ]
  },
  {
   "cell_type": "markdown",
   "metadata": {},
   "source": [
    "---\n",
    "\n",
    "### Truth Table for the Full Adder\n",
    "|A\t|B\t|C_in\t|S (Sum)\t|C_out (Carry)|\n",
    "|-----|-----|-----|-----|----|\n",
    "|0\t  |0\t|0\t  |0\t|0   |\n",
    "|0\t  |0\t|1\t  |1\t|0   |\n",
    "|0\t  |1\t|0\t  |1\t|0   |\n",
    "|0\t  |1\t|1\t  |0\t|1   |\n",
    "|1\t  |0\t|0\t  |1\t|0   |\n",
    "|1\t  |0\t|1\t  |0\t|1   |\n",
    "|1\t  |1\t|0\t  |0\t|1   |\n",
    "|1\t  |1\t|1\t  |1\t|1   |\n"
   ]
  },
  {
   "cell_type": "code",
   "execution_count": 2,
   "metadata": {},
   "outputs": [
    {
     "name": "stdout",
     "output_type": "stream",
     "text": [
      "A B c_in | Sum Cout\n",
      "0 0  0  |  0   0\n",
      "0 0  1  |  1   0\n",
      "0 1  0  |  1   0\n",
      "0 1  1  |  0   1\n",
      "1 0  0  |  1   0\n",
      "1 0  1  |  0   1\n",
      "1 1  0  |  0   1\n",
      "1 1  1  |  1   1\n"
     ]
    }
   ],
   "source": [
    "\n",
    "def full_adder(a_in: int,\n",
    "               b_in: int,\n",
    "               c_in: int\n",
    "               ) -> tuple[int, int]:\n",
    "    \"\"\"Full adder logic\"\"\"\n",
    "    # First half adder\n",
    "    sum_1: int = a_in ^ b_in  # XOR operation\n",
    "    carry_1: int = a_in & b_in  # AND operation\n",
    "\n",
    "    # Second half adder\n",
    "    sum: int = sum_1 ^ c_in  # Final sum: XOR of sum_1 and carry-in\n",
    "    carry_2: int = sum_1 & c_in  # Second partial carry: AND of sum_1 and carry-in\n",
    "\n",
    "    # Final carry-out is the OR of the two partial carries\n",
    "    c_out: int = carry_1 | carry_2      # OR operation\n",
    "\n",
    "    return sum, c_out\n",
    "\n",
    "# Test the full adder with all possible inputs\n",
    "print(\"A B Cin | Sum Cout\")\n",
    "for A in (0, 1):\n",
    "    for B in (0, 1):\n",
    "        for Cin in (0, 1):\n",
    "            Sum, Cout = full_adder(A, B, Cin)\n",
    "            print(f\"{A} {B}  {Cin}  |  {Sum}   {Cout}\")\n"
   ]
  },
  {
   "cell_type": "markdown",
   "metadata": {},
   "source": [
    "---\n",
    "\n",
    "## Half Subtractor Overview\n",
    "It is analogous to a half adder but preforms binary subtraction instead of additions. It takes two bits and produce two outputs: the **difference** and **borrow**.\n",
    "\n",
    "* Inputs:\n",
    "    - **A**: The number to subtract from (minuend),\n",
    "    - **B**: The number to subtract (subtrahend).\n",
    "* Outputs:\n",
    "    - **Difference (D)**: The result of subtracting B from A without considering a borrow from a previous digit,\n",
    "    - **Borrow (Bout)**: indicate if there is a need to borrow a more significant bit (it is 1 when A is less than B).\n",
    "\n",
    "### Logic of Half Subtractor\n",
    "1. **D**: The difference out put is given by XOR of A and B:\n",
    "        $$D = A \\oplus B$$\n",
    "    - If A and B are the same, D is 0,\n",
    "    - if A and B differ, D is 1.\n",
    "2. **Bout**: The borrow output is generated when A is 0 and B is 1. This can be expressed as:\n",
    "        $$\\text{Bout} = \\bar{A} \\cdot B$$\n",
    "    - $\\bar{A}$ (NOT A) is 1 when A is 0,\n",
    "    - Thus, when A is 0 and B is 1, Bout is 1; otherwise, it is 0.\n",
    "\n",
    "---\n",
    "### Truth Table for the Half Subtractor\n",
    "|A  |B  |D  |Bout|\n",
    "|---|---|---|----|\n",
    "|0  |0  |0  |0   |\n",
    "|0  |1  |1  |1   |\n",
    "|1  |0  |1  |0   |\n",
    "|1  |1  |0  |0   |\n",
    "\n",
    "---\n",
    "### Circuit Diagram\n",
    "```lua\n",
    "       A ---------+         \n",
    "                  |        +-----------+\n",
    "                  +------->|   XOR     |----> D (Difference)\n",
    "                  |        +-----------+\n",
    "                  |\n",
    "                  |       +----------+\n",
    "                 ¬A ----->|   AND    |----> Bout (Borrow)\n",
    "                  |       +----------+\n",
    "       B ---------+---------+\n",
    "```\n",
    "\n",
    "\n",
    "\n",
    "\n"
   ]
  },
  {
   "cell_type": "code",
   "execution_count": 11,
   "metadata": {},
   "outputs": [
    {
     "name": "stdout",
     "output_type": "stream",
     "text": [
      "   A  B  D  Bout\n",
      "0  0  0  0     0\n",
      "1  0  1  1     1\n",
      "2  1  0  1     0\n",
      "3  1  1  0     0\n"
     ]
    }
   ],
   "source": [
    "import pandas as pd\n",
    "\n",
    "def half_subtractor(data: list[tuple[int, int]]\n",
    "                    ) -> pd.DataFrame:\n",
    "    \"\"\"half subtractor for A and B\"\"\"\n",
    "    truth_table: list[dict[str, int]] = []\n",
    "\n",
    "    for a_in, b_in in data:\n",
    "        diff: int = a_in ^ b_in\n",
    "        bout: int = (1 - a_in) & b_in  # (1 - a_in) is NOT A\n",
    "\n",
    "        truth_table.append(\n",
    "            {'A': a_in, 'B': b_in, 'D': diff, 'Bout': bout})\n",
    "    return pd.DataFrame(truth_table)\n",
    "\n",
    "data = [(0, 0), (0, 1), (1, 0), (1, 1)]\n",
    "df: pd.DataFrame = half_subtractor(data)\n",
    "print(df)"
   ]
  },
  {
   "cell_type": "markdown",
   "metadata": {},
   "source": [
    "## $A \\oplus B$: Half Adder vs. Half Subtractor:\n",
    "In the basic form, for single-bit operations without carrying or borrowing, addition and subtraction yield the same result! The interpretation depends on the arithmetic context:\n",
    "\n",
    "* **Half Adder:**\n",
    "    - When adding two binary digits, the **sum** (ignoring any carry) is given by the XOR of the inputs, because:\n",
    "        * If both bits are the same, the sum is 0, (without considering carry),\n",
    "        * If the bits are differ, the sum is 1.\n",
    "\n",
    "so binary addition (modulo 2), the XOR operation gives the *sum* bit.\n",
    "* **Half Subtractor:**\n",
    "    - When subtracting two binary digits, the **difference** (ignoring any borrow) is also given by XOR of the inputs, because:\n",
    "        * If both bits are the same, the difference is 0,\n",
    "        * If the bits are differ, the difference is 1.\n",
    "\n",
    "    thus, in binary subtraction (modulo 2), the XOR operation produce the *difference* bit."
   ]
  }
 ],
 "metadata": {
  "kernelspec": {
   "display_name": "quantum",
   "language": "python",
   "name": "python3"
  },
  "language_info": {
   "codemirror_mode": {
    "name": "ipython",
    "version": 3
   },
   "file_extension": ".py",
   "mimetype": "text/x-python",
   "name": "python",
   "nbconvert_exporter": "python",
   "pygments_lexer": "ipython3",
   "version": "3.13.1"
  }
 },
 "nbformat": 4,
 "nbformat_minor": 2
}
