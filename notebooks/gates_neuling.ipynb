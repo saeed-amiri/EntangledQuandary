{
 "cells": [
  {
   "cell_type": "markdown",
   "metadata": {},
   "source": [
    "# A Newbie Guide to Logic Circuits with Elementary Examples\n",
    "Describing how the digital circuits are built from logic gates and how thees basic digital circuits can be combined to create more complex circuits.\n",
    "\n",
    "## Half-Adder Circuits: [see [1](https://www.geeksforgeeks.org/half-adder-in-digital-logic/),[2](https://en.wikipedia.org/wiki/Adder_(electronics))]\n",
    "* An `adder` is a digital circuit that preform addition of numbers. *The half adder adds two single binary digits A and B. It has two outputs, sum (**S**) and carry (**C**). The carry signal represents an overflow into the next digit of a multi-digit addition. The value of the sum is **2 C + S**.*\n",
    "\n",
    "* Overflow: It happens when an arithmetic operation tries to make a value that is outside of the given range of the digits.\n",
    "\n",
    "* **Sum (S):** Achieved using an XOR gate (outputs 1 when the inputs are different).\n",
    "\n",
    "* **Carry (C):** Achieved using an AND gate (outputs 1 only when both inputs are 1).\n",
    "\n",
    "**Truth Table for Half Adder:**\n",
    "\n",
    "| A | B | Sum (XOR) | Carry (AND) |\n",
    "|:-:|:-:|:---------:|:-----------:|\n",
    "| 0 | 0 |     0     |      0      |\n",
    "| 0 | 1 |     1     |      0      |\n",
    "| 1 | 0 |     1     |      0      |\n",
    "| 1 | 1 |     0     |      1      |"
   ]
  },
  {
   "cell_type": "code",
   "execution_count": null,
   "metadata": {},
   "outputs": [
    {
     "name": "stdout",
     "output_type": "stream",
     "text": [
      "   A  B  Sum (XOR)  Carry (AND)\n",
      "0  0  0          0            0\n",
      "1  0  1          1            0\n",
      "2  1  0          1            0\n",
      "3  1  1          0            1\n"
     ]
    }
   ],
   "source": [
    "import pandas as pd\n",
    "\n",
    "def half_adder(data: list[tuple[int, int]]\n",
    "               ) -> pd.DataFrame:\n",
    "    \"\"\"test for half adder\"\"\"\n",
    "    truth_table: list[str] = []\n",
    "    for gates in data:\n",
    "        a_in, b_in = gates\n",
    "        sum = a_in ^ b_in  # XOR operation\n",
    "        carry = a_in & b_in  # AND operation\n",
    "        truth_table.append(\n",
    "            {'A': a_in, 'B': b_in, 'Sum (XOR)': sum, 'Carry (AND)': carry})\n",
    "    return pd.DataFrame(truth_table)\n",
    "\n",
    "data = [(0, 0), (0, 1), (1, 0), (1, 1)]\n",
    "df: pd.DataFrame = half_adder(data)\n",
    "print(df)"
   ]
  },
  {
   "cell_type": "markdown",
   "metadata": {},
   "source": [
    "## Full Adder:\n",
    "A full adder adds three binary digits:\n",
    "* A: first input\n",
    "* B: second input\n",
    "* C_in: carry-in a previous addition\n",
    "\n",
    "It produces two outputs:\n",
    "* Sum (S): the least significant bit of the addition.\n",
    "* Carry (C_out): the bit that carries over to the next significant digit.\n",
    "\n",
    "### Logic Behind the Full Adder:\n",
    "A full adder can be constructed using two half adder and an OR gate:\n",
    "1. First Half Adder:\n",
    "    - Inputs: A and B.\n",
    "    - Outputs:\n",
    "        * Partial Sum $S_1 = A \\oplus B$ (XOR of A and B),\n",
    "        * Partial Carry $C_1 = A \\cdot B$ (AND of A and B).\n",
    "2. Second Half Adder:\n",
    "    - Inputs: The partial $S_1$ and the carry-in $C_{in}$.\n",
    "    - Outputs:\n",
    "        * Final Sum $S = S_1 \\oplus C_{in}$.\n",
    "        * Final Carry $C_2 = S_1 \\cdot S_2$.\n",
    "3. Carry-Out Calculation:\n",
    "    * The final carry-out $C_{out}$ is obtained by OR`ing the two partial carries:\n",
    "            $$C_{out} = C_1+ C_2$$\n"
   ]
  }
 ],
 "metadata": {
  "kernelspec": {
   "display_name": "quantum",
   "language": "python",
   "name": "python3"
  },
  "language_info": {
   "codemirror_mode": {
    "name": "ipython",
    "version": 3
   },
   "file_extension": ".py",
   "mimetype": "text/x-python",
   "name": "python",
   "nbconvert_exporter": "python",
   "pygments_lexer": "ipython3",
   "version": "3.13.1"
  }
 },
 "nbformat": 4,
 "nbformat_minor": 2
}
