{
 "cells": [
  {
   "cell_type": "markdown",
   "metadata": {},
   "source": [
    "# A Newbie Guide to Logic Circuits with Elementary Examples\n",
    "Describing how the digital circuits are built from logic gates and how thees basic digital circuits can be combined to create more complex circuits.\n",
    "\n",
    "## Half-Adder Circuits: [see [1](https://www.geeksforgeeks.org/half-adder-in-digital-logic/),[2](https://en.wikipedia.org/wiki/Adder_(electronics))]\n",
    "* An `adder` is a digital circuit that preform addition of numbers. *The half adder adds two single binary digits A and B. It has two outputs, sum (**S**) and carry (**C**). The carry signal represents an overflow into the next digit of a multi-digit addition. The value of the sum is **2 C + S**.*\n",
    "\n",
    "* Overflow: It happens when an arithmetic operation tries to make a value that is outside of the given range of the digits.\n",
    "\n",
    "* **Sum (S):** Achieved using an XOR gate (outputs 1 when the inputs are different).\n",
    "\n",
    "* **Carry (C):** Achieved using an AND gate (outputs 1 only when both inputs are 1).\n",
    "\n",
    "**Truth Table for Half Adder:**\n",
    "\n",
    "| A | B | Sum (XOR) | Carry (AND) |\n",
    "|:-:|:-:|:---------:|:-----------:|\n",
    "| 0 | 0 |     0     |      0      |\n",
    "| 0 | 1 |     1     |      0      |\n",
    "| 1 | 0 |     1     |      0      |\n",
    "| 1 | 1 |     0     |      1      |"
   ]
  },
  {
   "cell_type": "code",
   "execution_count": 3,
   "metadata": {},
   "outputs": [
    {
     "name": "stdout",
     "output_type": "stream",
     "text": [
      "None\n"
     ]
    }
   ],
   "source": [
    "import pandas as pd\n",
    "\n",
    "def half_adder(data: list[tuple[int, int]]\n",
    "               ) -> list[int]:\n",
    "    \"\"\"test for half adder\"\"\"\n",
    "    truth_table: list[str] = []\n",
    "    for gates in data:\n",
    "        a_in, b_in = gates\n",
    "        sum = a_in ^ b_in  # XOR operation\n",
    "        carry = a_in & b_in  # AND operation\n",
    "        truth_table.append(\n",
    "            {'A': a_in, 'B': b_in, 'Sum (XOR)': sum, 'Carry (AND)': carry})\n",
    "    df = pd.DataFrame(truth_table)\n",
    "\n",
    "data = [(0, 0), (0, 1), (1, 0), (1, 1)]\n",
    "df: pd.DataFrame = half_adder(data)\n",
    "print(df)\n"
   ]
  }
 ],
 "metadata": {
  "kernelspec": {
   "display_name": "quantum",
   "language": "python",
   "name": "python3"
  },
  "language_info": {
   "codemirror_mode": {
    "name": "ipython",
    "version": 3
   },
   "file_extension": ".py",
   "mimetype": "text/x-python",
   "name": "python",
   "nbconvert_exporter": "python",
   "pygments_lexer": "ipython3",
   "version": "3.13.1"
  }
 },
 "nbformat": 4,
 "nbformat_minor": 2
}
