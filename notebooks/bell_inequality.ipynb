{
 "cells": [
  {
   "cell_type": "markdown",
   "metadata": {},
   "source": [
    "# Bell Inequality Experiment: A quantum entanglement demonstration\n",
    "\n",
    "## Overview\n",
    "This notebook demonstrate an experiment to test **Bell's inequality** using a quantum computing framework. The goal is to understand the fundamental of non-local correlations predicted by quantum mechanics-correlations that cannot be explained by classical physics.\n",
    "\n",
    "## What is Bell's inequality:\n",
    "Bell's inequality provides a way to distinguish between classical *local* theories and quantum mechanics. In a classical scenario, the correlation parameter (often denoted as **S**) is bounded by 2. However, quantum entangled can violate this bound, with **S** exceeding 2, thus demonstrating quantum non-locality.\n",
    "**S:**\n",
    "\n",
    "* **S**: is a statistical measure, a single number, that summarizes the strength of correlations between measurement outcomes on separate states.\n",
    "\n",
    "* **S** quantifies how to strongly the measurement outcomes are correlated when the observers choose various measurement settings. A larger **S** means a stronger correlations between the outcomes.\n",
    "\n",
    "* **In classical:** Under classical assumptions(locality and realism), the outcomes are determined by pre-existing properties (hidden variables). No matter how the variables are chosen the outcome can never exceed 2.\n",
    "\n",
    "* **In quantum:** Quantum mechanics allows for entangled states, in results the outcomes are more strongly correlated, and they can exceed 2 (up to $2\\sqrt{2}$). Also if **S** comes out more than 2, it means classical theory cannot explain measurement.\n",
    "\n",
    "### Classical local theories:\n",
    "\n",
    "***Principle of locality***: In physics, this principle states that an object is influenced directly only by its immediate surroundings.\n",
    "In the context of quantum and Bell's inequality theory, this also refers as \"local hidden variable theories.\" These refer to hypothetical physical theories that satisfy two principles:\n",
    ">1. Realism Physical properties (like position or spin of a particle) have define values prior to (and independent of) measurement.\n",
    ">2. Locality: No influence can travel faster then the speed of light, so events separated by space-like interval cannot directly effect each other.\n",
    "Hence, the reason why they are called local is that they obey the constraint that causes and effects cannot propagate instantaneously over long distances.\n",
    "\n",
    "### Algorithm Steps:\n",
    ">1. **State preparation:**\n",
    "    - **Entanglement:**\n",
    "      The experiment begins by generating an entangled state (known as Bell state) between two qubits. This is typically achieved by applying a Hadamard gate to the first qubit followed by CNOT gate, which entangles it with the second qubit.\n",
    ">2. **Measurement Setup:**\n",
    "    - **Changing Bases:**\n",
    "      After creating the entangled state, both qubits are rotated into different measurement bases. This allows us to measure them under varying conditions necessary for evaluating the Bell inequality.\n",
    ">3. **Data Collection:**\n",
    "    - **Repetition for Statistics:**\n",
    "      The circuit is executed multiple times (each execution referred to as a \"shot\"), and the outcomes are recorded. These outcomes form the basis of the statistical analysis.\n",
    ">4. **Correlation Analysis:**  \n",
    "    - **Computing the Bell Parameter:**\n",
    "      From the collected data, correlation coefficients are calculated. These are then used to compute the Bell parameter **S**.\n",
    "    - **Interpreting the Results:**\n",
    "      If **S > 2**, the results indicate a violation of Bell's inequality, confirming the presence of quantum entanglement and non-local correlations.\n",
    "\n",
    "## Purpose of This Experiment\n",
    "- **Demonstrate Quantum Entanglement:**  \n",
    "  Verify that entangled qubits can exhibit correlations that defy classical explanation.\n",
    "- **Build Foundations for Advanced Quantum Algorithms:**  \n",
    "  Understanding the mechanics behind Bell's inequality is a stepping stone towards more complex quantum algorithms and applications, such as quantum cryptography and quantum communication."
   ]
  }
 ],
 "metadata": {
  "language_info": {
   "name": "python"
  }
 },
 "nbformat": 4,
 "nbformat_minor": 2
}
