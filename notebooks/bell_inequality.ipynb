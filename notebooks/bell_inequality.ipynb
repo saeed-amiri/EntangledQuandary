{
 "cells": [
  {
   "cell_type": "markdown",
   "metadata": {},
   "source": [
    "# Bell Inequality Experiment: A quantum entanglement demonstration\n",
    "\n",
    "## Overview\n",
    "This notebook demonstrate an experiment to test **Bell's inequality** using a quantum computing framework. The goal is to understand the fundamental of non-local correlations predicted by quantum mechanics-correlations that cannot be explained by classical physics."
   ]
  }
 ],
 "metadata": {
  "language_info": {
   "name": "python"
  }
 },
 "nbformat": 4,
 "nbformat_minor": 2
}
