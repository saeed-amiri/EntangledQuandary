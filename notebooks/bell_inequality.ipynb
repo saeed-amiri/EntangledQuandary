{
 "cells": [
  {
   "cell_type": "markdown",
   "metadata": {},
   "source": [
    "# Bell Inequality Experiment: A quantum entanglement demonstration\n",
    "\n",
    "## Overview\n",
    "This notebook demonstrate an experiment to test **Bell's inequality** using a quantum computing framework. The goal is to understand the fundamental of non-local correlations predicted by quantum mechanics-correlations that cannot be explained by classical physics.\n",
    "\n",
    "## What is Bell's inequality:\n",
    "Bell's inequality provides a way to distinguish between classical local theories and quantum mechanics. In a classical scenario, the correlation parameter (often denoted as **S**) is bounded by 2. However, quantum entangled can violate this bound, with **S** exceeding 2, thus demonstrating quantum non-locality.\n",
    "### Classical local theories:\n",
    "\n",
    "***Principle of locality***: In physics, this principle states that an object is influenced directly only by its immediate surroundings.\n",
    "In the context of quantum and Bell's inequality theory, this also refers as \"local hidden variable theories.\" These refer to hypothetical physical theories that satisfy two principles:\n",
    ">1. Realism Physical properties (like position or spin of a particle) have define values prior to (and independent of) measurement.\n",
    ">2. Locality: No influence can travel faster then the speed of light, so events separated by space-like interval cannot directly effect each other.\n",
    "Hence, the reason why they are called local is that they obey the constraint that causes and effects cannot propagate instantaneously over long distances.\n"
   ]
  },
  {
   "cell_type": "markdown",
   "metadata": {},
   "source": [
    "\n",
    "    "
   ]
  },
  {
   "cell_type": "markdown",
   "metadata": {},
   "source": []
  }
 ],
 "metadata": {
  "language_info": {
   "name": "python"
  }
 },
 "nbformat": 4,
 "nbformat_minor": 2
}
