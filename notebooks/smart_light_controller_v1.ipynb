{
 "cells": [
  {
   "cell_type": "markdown",
   "metadata": {},
   "source": [
    "# The Smart Light Controller\n",
    "*I learn this things by using ChatGpt! Where else I can go!*\n",
    "\n",
    "### Scenario:\n",
    "\n",
    "We have:\n",
    "- A presence Sensor ($A$): Output 1 if someone is detected, 0 otherwise,\n",
    "- An Ambient Light Sensor ($B$): Output 0 if it is dark, and 1 if it's bright.\n",
    "\n",
    "### Desired Behavior:\n",
    "We want the light to turn on only when:\n",
    "- Someone is present ($**$A = 1$**$), and\n",
    "- It is dark ($**$B = 0$**$).\n",
    "\n",
    "In other words, the light should turn in if $A$ is 1 and $B$ is 0.\n",
    "\n",
    "### Circuit Design:\n",
    "We can express this condition with a simple Boolean expression:\n",
    "$$ L = A \\cdot \\overline{B}$$\n",
    "Where:\n",
    "- $\\overline{B}$ is the NOT of B, meaning it inverts the ambient light sensor's output,\n",
    "- $A \\cdot \\overline{B}$ means using an AND gate on $A$ and $\\overline{B}$.\n",
    "\n",
    "### What This Means in Electronics\n",
    "- **Logic 0 and 1:** In a real circuit, this represent specific voltage levels. For example, 0 volts might represent 0 (off) and 5 volts might represent 1 (on),\n",
    "- **Turning on a Light:** The output $L$ drives a transistor or a relay (an electrically operated switch) that controls an LED or lamp. When $L$ is 1 (5V), the transistor conducts, allowing current to flow and lighting the LED,\n",
    "- **Basic Gates at Work:**\n",
    "    * The **NOT Gate** inverts $B$ so that when the ambient light sensor says it is bright (1), $\\overline{B}$ becomes 0, preventing the light from turning on,\n",
    "    * The **AND Gate** ensures the light only turns on when both conditions are met (someone is present and it is dark),\n",
    "\n",
    "---\n",
    "\n",
    "### ASCII Diagram\n",
    "```lua\n",
    "       Presence Sensor (A)\n",
    "                |\n",
    "                v\n",
    "             [ AND ]-----> Light (Output)\n",
    "                ^\n",
    "                |\n",
    "Ambient Light Sensor (B)\n",
    "                |\n",
    "             [ NOT ]\n",
    "                |\n",
    "                v\n",
    "       (Inverted Ambient Light)\n",
    "```\n",
    "\n",
    "* The Presence Sensor ($A$) sends its signal directly to the AND gate,\n",
    "* The Ambient Light Sensor ($B$) goes through a NOT gate, inverting the its output,\n",
    "* The AND gate then outputs a 1 (turns the light on) only when:\n",
    "   * Presence Sensor ($A$) is 1, and\n",
    "   * The inverted ambient signal is 1 (which means $B$ was 0, it's dark).\n",
    "   "
   ]
  },
  {
   "cell_type": "code",
   "execution_count": 2,
   "metadata": {},
   "outputs": [
    {
     "name": "stdout",
     "output_type": "stream",
     "text": [
      "Presence, Ambient Light => Light Output\n",
      "0, 0 => 0\n",
      "0, 1 => 0\n",
      "1, 0 => 1\n",
      "1, 1 => 0\n"
     ]
    }
   ],
   "source": [
    "def smart_light(presence: int,\n",
    "                ambient_light: int\n",
    "                ) -> int:\n",
    "    \"\"\"\n",
    "    Smart Light Controller:\n",
    "    - presence: 1 if someone is detected, 0 otherwise.\n",
    "    - ambient_light: 1 if it's bright, 0 if it's dark.\n",
    "    Returns: light (1 means on, 0 means off).\n",
    "    \"\"\"\n",
    "    # NOT gate on ambient_light\n",
    "    not_ambient = 1 - ambient_light  # Inverts 1->0, 0->1\n",
    "    \n",
    "    # AND gate: light is on if presence is 1 and it is dark (not_ambient is 1)\n",
    "    light = presence & not_ambient\n",
    "    return light\n",
    "\n",
    "# Test different conditions\n",
    "test_conditions = [\n",
    "    (0, 0),  # No one present, dark\n",
    "    (0, 1),  # No one present, bright\n",
    "    (1, 0),  # Someone present, dark\n",
    "    (1, 1)   # Someone present, bright\n",
    "]\n",
    "\n",
    "print(\"Presence, Ambient Light => Light Output\")\n",
    "for presence, ambient in test_conditions:\n",
    "    light = smart_light(presence, ambient)\n",
    "    print(f\"{presence}, {ambient} => {light}\")\n"
   ]
  }
 ],
 "metadata": {
  "kernelspec": {
   "display_name": "quantum",
   "language": "python",
   "name": "python3"
  },
  "language_info": {
   "codemirror_mode": {
    "name": "ipython",
    "version": 3
   },
   "file_extension": ".py",
   "mimetype": "text/x-python",
   "name": "python",
   "nbconvert_exporter": "python",
   "pygments_lexer": "ipython3",
   "version": "3.13.1"
  }
 },
 "nbformat": 4,
 "nbformat_minor": 2
}
