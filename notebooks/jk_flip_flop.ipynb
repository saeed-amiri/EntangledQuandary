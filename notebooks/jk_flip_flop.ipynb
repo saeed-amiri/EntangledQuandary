{
 "cells": [
  {
   "cell_type": "markdown",
   "metadata": {},
   "source": [
    "# JK Flip-Flop\n",
    "\n",
    "## Why Move to the JK Flip-Flop?\n",
    "\n",
    "- The T Flip-Flop was a special case where the flip-flop always toggled when the button was pressed. But what if we want more control?\n",
    "\n",
    "- The JK Flip-Flop is like an upgraded SR Flip-Flop that removes invalid states and allows both Set, Reset, and Toggle in one device!\n",
    "\n",
    "**JK Flip-Flop = Generalized T + SR Flip-Flop**\n",
    "\n",
    "it can:\n",
    "- Set (1),\n",
    "- Rest (0),\n",
    "- Toggle (like T Flip-Flop),\n",
    "- Hold the state (no change).\n",
    "\n",
    "## How the JK Flip-Flop Works:\n",
    "\n",
    "It has two inputs:\n",
    "\n",
    "**J** and **K**\n",
    "- **J (Set input):** if **1**, it wants to turn **ON** the flip-flop,\n",
    "- **K (Unset input):** if **1**, it wants to turn **OFF** the flip-flop,\n",
    "- If **J = 1 and K = 1**, it toggles (like T Flip-Flop),\n",
    "- If **j = 0 and K = 0**, it **remembers** the last state.\n",
    "\n",
    "## Truth Table for JK Flip-Flop:\n",
    "|J (Set) | K (Unset)  | Q (Current State) | Q $_{\\text{next}}$ (New State) |\n",
    "|---------------|---------------|---------------|---------------|\n",
    "| 0             | 0             | 0             | 0 (Hold)      |\n",
    "| 0             | 0             | 1             | 1 (Hold)      |\n",
    "| 0             | 1             | X             | 0 (Reset)     |\n",
    "| 1             | 0             | X             | 1 (Set)       |\n",
    "| 1             | 1             | 0             | 1 (Toggle)    |\n",
    "| 1             | 1             | 1             | 0 (Toggle)    |\n",
    "\n",
    "**What is special?**\n",
    "- The **SR Flip-Flop** had invalid state (**S = 1**, **R = 1**), but **JK Flip-Flop** fixes that,\n",
    "- When **J = K = 1**, it acts like a **T Flip-Flop**.\n",
    "\n",
    "## How Does This Feel in RL?\n",
    "\n",
    "Let's say we have a **smart light system**:\n",
    "1. If **J = 1, K = 0**, pressing a button **always turn the light ON** (no matter what),\n",
    "2. If **J = 0, K = 1**, pressing a button **always turn the light OFF**,\n",
    "3. If **J = 0, K = 0**, the light **stays** in the current state (memory),\n",
    "4. If **J = 1, K = 1**, pressing a botton **toggles** the light (like a T Flip-Flop).\n",
    "\n",
    "**It is like having both an ON/OFF button and a toggle in one**"
   ]
  }
 ],
 "metadata": {
  "language_info": {
   "name": "python"
  }
 },
 "nbformat": 4,
 "nbformat_minor": 2
}
